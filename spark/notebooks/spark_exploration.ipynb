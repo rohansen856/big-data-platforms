{
 "cells": [
  {
   "cell_type": "markdown",
   "metadata": {},
   "source": [
    "# Apache Spark Exploration Notebook\n",
    "\n",
    "This notebook demonstrates Apache Spark capabilities for data processing and analytics."
   ]
  },
  {
   "cell_type": "code",
   "execution_count": null,
   "metadata": {},
   "outputs": [],
   "source": [
    "from pyspark.sql import SparkSession\n",
    "from pyspark.sql.functions import *\n",
    "import matplotlib.pyplot as plt\n",
    "import seaborn as sns\n",
    "\n",
    "# Create Spark session\n",
    "spark = SparkSession.builder \\\n",
    "    .appName(\"SparkExploration\") \\\n",
    "    .config(\"spark.master\", \"spark://spark-master:7077\") \\\n",
    "    .getOrCreate()\n",
    "\n",
    "print(f\"Spark version: {spark.version}\")\n",
    "print(f\"Spark context web UI: {spark.sparkContext.uiWebUrl}\")"
   ]
  },
  {
   "cell_type": "markdown",
   "metadata": {},
   "source": [
    "## Load and Explore Taxi Data"
   ]
  },
  {
   "cell_type": "code",
   "execution_count": null,
   "metadata": {},
   "outputs": [],
   "source": [
    "# Load taxi data\n",
    "taxi_df = spark.read.csv(\"/home/jovyan/data/taxi_data.csv\", header=True, inferSchema=True)\n",
    "\n",
    "print(f\"Dataset shape: {taxi_df.count()} rows, {len(taxi_df.columns)} columns\")\n",
    "taxi_df.printSchema()"
   ]
  },
  {
   "cell_type": "code",
   "execution_count": null,
   "metadata": {},
   "outputs": [],
   "source": [
    "# Basic statistics\n",
    "taxi_df.describe().show()"
   ]
  },
  {
   "cell_type": "markdown",
   "metadata": {},
   "source": [
    "## Data Visualization"
   ]
  },
  {
   "cell_type": "code",
   "execution_count": null,
   "metadata": {},
   "outputs": [],
   "source": [
    "# Convert to Pandas for visualization\n",
    "sample_df = taxi_df.sample(0.1).toPandas()\n",
    "\n",
    "# Trip distance distribution\n",
    "plt.figure(figsize=(12, 4))\n",
    "plt.subplot(1, 2, 1)\n",
    "plt.hist(sample_df['trip_distance'], bins=50, alpha=0.7)\n",
    "plt.title('Trip Distance Distribution')\n",
    "plt.xlabel('Distance (miles)')\n",
    "plt.ylabel('Frequency')\n",
    "\n",
    "# Fare amount distribution\n",
    "plt.subplot(1, 2, 2)\n",
    "plt.hist(sample_df['fare_amount'], bins=50, alpha=0.7)\n",
    "plt.title('Fare Amount Distribution')\n",
    "plt.xlabel('Fare ($)')\n",
    "plt.ylabel('Frequency')\n",
    "\n",
    "plt.tight_layout()\n",
    "plt.show()"
   ]
  },
  {
   "cell_type": "markdown",
   "metadata": {},
   "source": [
    "## Spark SQL Demo"
   ]
  },
  {
   "cell_type": "code",
   "execution_count": null,
   "metadata": {},
   "outputs": [],
   "source": [
    "# Create temporary view\n",
    "taxi_df.createOrReplaceTempView(\"taxi_trips\")\n",
    "\n",
    "# SQL query example\n",
    "result = spark.sql(\"\"\"\n",
    "    SELECT \n",
    "        payment_type,\n",
    "        COUNT(*) as trip_count,\n",
    "        AVG(fare_amount) as avg_fare,\n",
    "        AVG(tip_amount) as avg_tip\n",
    "    FROM taxi_trips\n",
    "    GROUP BY payment_type\n",
    "    ORDER BY trip_count DESC\n",
    "\"\"\")\n",
    "\n",
    "result.show()"
   ]
  },
  {
   "cell_type": "markdown",
   "metadata": {},
   "source": [
    "## Performance Optimization"
   ]
  },
  {
   "cell_type": "code",
   "execution_count": null,
   "metadata": {},
   "outputs": [],
   "source": [
    "# Partitioning example\n",
    "taxi_df.write \\\n",
    "    .mode(\"overwrite\") \\\n",
    "    .partitionBy(\"payment_type\") \\\n",
    "    .parquet(\"/home/jovyan/data/partitioned_taxi\")\n",
    "\n",
    "# Read partitioned data\n",
    "partitioned_df = spark.read.parquet(\"/home/jovyan/data/partitioned_taxi\")\n",
    "print(f\"Partitioned dataset loaded: {partitioned_df.count()} rows\")"
   ]
  },
  {
   "cell_type": "markdown",
   "metadata": {},
   "source": [
    "## Clean up"
   ]
  },
  {
   "cell_type": "code",
   "execution_count": null,
   "metadata": {},
   "outputs": [],
   "source": [
    "spark.stop()"
   ]
  }
 ],
 "metadata": {
  "kernelspec": {
   "display_name": "Python 3",
   "language": "python",
   "name": "python3"
  },
  "language_info": {
   "codemirror_mode": {
    "name": "ipython",
    "version": 3
   },
   "file_extension": ".py",
   "mimetype": "text/x-python",
   "name": "python",
   "nbconvert_exporter": "python",
   "pygments_lexer": "ipython3",
   "version": "3.8.8"
  }
 },
 "nbformat": 4,
 "nbformat_minor": 4
}